{
 "cells": [
  {
   "cell_type": "code",
   "execution_count": 1,
   "id": "25a61ac7",
   "metadata": {},
   "outputs": [],
   "source": [
    "import os\n",
    "import sys, subprocess"
   ]
  },
  {
   "cell_type": "code",
   "execution_count": 2,
   "id": "a972af87",
   "metadata": {},
   "outputs": [],
   "source": [
    "target_folder = 'all_conference_papers'\n",
    "output_folder = 'extracted_svg'\n",
    "conference_names = os.listdir(os.path.join(os.getcwd(),target_folder))\n",
    "for conference in conference_names:\n",
    "    paper_codes = os.listdir(os.path.join(os.getcwd(),target_folder,conference))\n",
    "    for paper in paper_codes:\n",
    "        tex_dir = os.path.join(os.getcwd(),target_folder,conference,paper)\n",
    "        out_dir = os.path.join(os.getcwd(),output_folder,conference,paper)\n",
    "        os.makedirs(out_dir,exist_ok=True)\n",
    "        argv = [sys.executable, \"-u\", \"4.py\", tex_dir, \"--out-dir\", out_dir]\n",
    "        completed = subprocess.run(argv, check=True, text=True, capture_output=True)\n",
    "        # print(completed.stdout)\n",
    "        # print(completed.stderr)\n"
   ]
  }
 ],
 "metadata": {
  "kernelspec": {
   "display_name": "CSCI544",
   "language": "python",
   "name": "python3"
  },
  "language_info": {
   "codemirror_mode": {
    "name": "ipython",
    "version": 3
   },
   "file_extension": ".py",
   "mimetype": "text/x-python",
   "name": "python",
   "nbconvert_exporter": "python",
   "pygments_lexer": "ipython3",
   "version": "3.9.23"
  }
 },
 "nbformat": 4,
 "nbformat_minor": 5
}
